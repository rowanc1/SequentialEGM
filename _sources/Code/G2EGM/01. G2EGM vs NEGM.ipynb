{
 "cells": [
  {
   "cell_type": "markdown",
   "metadata": {
    "pycharm": {
     "name": "#%% md\n"
    }
   },
   "source": [
    "# G2EGM vs. NEGM\n"
   ]
  },
  {
   "cell_type": "markdown",
   "metadata": {
    "pycharm": {
     "name": "#%% md\n"
    }
   },
   "source": [
    "This notebook produces the timing and accuracy results for the comparison of **NEGM** and **G$^2$EGM** in [A Guide to Solve Non-Convex Consumption-Saving Models](https://doi.org/10.1007/s10614-020-10045-x).\n"
   ]
  },
  {
   "cell_type": "markdown",
   "metadata": {
    "pycharm": {
     "name": "#%% md\n"
    }
   },
   "source": [
    "# Setup\n"
   ]
  },
  {
   "cell_type": "code",
   "execution_count": null,
   "metadata": {
    "collapsed": false,
    "pycharm": {
     "name": "#%%\n"
    }
   },
   "outputs": [],
   "source": [
    "%load_ext autoreload\n",
    "%autoreload 2\n",
    "\n",
    "import numpy as np\n",
    "\n",
    "np.seterr(all=\"ignore\")  # ignoring all warnings"
   ]
  },
  {
   "cell_type": "code",
   "execution_count": null,
   "id": "2adebaf3",
   "metadata": {
    "pycharm": {
     "name": "#%%\n"
    }
   },
   "outputs": [],
   "source": [
    "\n",
    "# load the G2EGMModel module\n",
    "from G2EGMModel import G2EGMModelClass"
   ]
  },
  {
   "cell_type": "markdown",
   "metadata": {
    "collapsed": false,
    "lines_to_next_cell": 2,
    "pycharm": {
     "name": "#%% md\n"
    }
   },
   "source": [
    "## Choose number of threads in numba\n",
    "\n",
    "\n",
    "\n",
    "nb.set_num_threads(1)"
   ]
  },
  {
   "cell_type": "markdown",
   "metadata": {
    "collapsed": false,
    "pycharm": {
     "name": "#%% md\n"
    }
   },
   "source": [
    "# Settings\n"
   ]
  },
  {
   "cell_type": "code",
   "execution_count": null,
   "metadata": {
    "collapsed": false,
    "lines_to_next_cell": 2,
    "pycharm": {
     "name": "#%%\n"
    }
   },
   "outputs": [],
   "source": [
    "T = 20\n",
    "Neta = 16\n",
    "var_eta = 0.1**2\n",
    "do_print = False"
   ]
  },
  {
   "cell_type": "markdown",
   "metadata": {
    "collapsed": false,
    "lines_to_next_cell": 2,
    "pycharm": {
     "name": "#%% md\n"
    }
   },
   "source": [
    "# Timing function\n"
   ]
  },
  {
   "cell_type": "code",
   "execution_count": null,
   "metadata": {
    "collapsed": false,
    "pycharm": {
     "name": "#%%\n"
    }
   },
   "outputs": [],
   "source": [
    "def timing(model, rep=1, do_print=True):  # set to 5 in the paper\n",
    "    name = model.name\n",
    "\n",
    "    time_best = np.inf\n",
    "    for i in range(rep):\n",
    "        model.solve()\n",
    "        model.calculate_euler()\n",
    "\n",
    "        tot_time = np.sum(model.par.time_work)\n",
    "        if do_print:\n",
    "            print(f\"{i}: {tot_time:.2f} secs, euler: {np.nanmean(model.sim.euler):.3f}\")\n",
    "\n",
    "        if tot_time < time_best:\n",
    "            time_best = tot_time\n",
    "            model_best = model.copy(\"best\")\n",
    "\n",
    "    model_best.name = name\n",
    "    return model_best"
   ]
  },
  {
   "cell_type": "markdown",
   "metadata": {
    "collapsed": false,
    "pycharm": {
     "name": "#%% md\n"
    }
   },
   "source": [
    "# NEGM\n"
   ]
  },
  {
   "cell_type": "code",
   "execution_count": null,
   "metadata": {
    "collapsed": false,
    "lines_to_next_cell": 2,
    "pycharm": {
     "name": "#%%\n"
    }
   },
   "outputs": [],
   "source": [
    "model_NEGM = G2EGMModelClass(\n",
    "    name=\"NEGM\", par={\"solmethod\": \"NEGM\", \"T\": T, \"do_print\": do_print}\n",
    ")\n",
    "model_NEGM.precompile_numba()\n",
    "model_NEGM = timing(model_NEGM)"
   ]
  },
  {
   "cell_type": "code",
   "execution_count": null,
   "metadata": {
    "collapsed": false,
    "lines_to_next_cell": 2,
    "pycharm": {
     "name": "#%%\n"
    }
   },
   "outputs": [],
   "source": [
    "model_NEGM_shocks = G2EGMModelClass(\n",
    "    name=\"NEGM_shocks\",\n",
    "    par={\n",
    "        \"solmethod\": \"NEGM\",\n",
    "        \"T\": T,\n",
    "        \"do_print\": do_print,\n",
    "        \"Neta\": Neta,\n",
    "        \"var_eta\": var_eta,\n",
    "    },\n",
    ")\n",
    "model_NEGM_shocks.precompile_numba()\n",
    "model_NEGM_shocks = timing(model_NEGM_shocks)"
   ]
  },
  {
   "cell_type": "markdown",
   "metadata": {
    "collapsed": false,
    "pycharm": {
     "name": "#%% md\n"
    }
   },
   "source": [
    "# G2EGM\n"
   ]
  },
  {
   "cell_type": "code",
   "execution_count": null,
   "metadata": {
    "collapsed": false,
    "lines_to_next_cell": 2,
    "pycharm": {
     "name": "#%%\n"
    }
   },
   "outputs": [],
   "source": [
    "model_G2EGM = G2EGMModelClass(\n",
    "    name=\"G2EGM\", par={\"solmethod\": \"G2EGM\", \"T\": T, \"do_print\": do_print}\n",
    ")\n",
    "model_G2EGM.precompile_numba()\n",
    "model_G2EGM = timing(model_G2EGM)"
   ]
  },
  {
   "cell_type": "code",
   "execution_count": null,
   "metadata": {
    "collapsed": false,
    "lines_to_next_cell": 2,
    "pycharm": {
     "name": "#%%\n"
    }
   },
   "outputs": [],
   "source": [
    "model_G2EGM_shocks = G2EGMModelClass(\n",
    "    name=\"G2EGM_shocks\",\n",
    "    par={\n",
    "        \"solmethod\": \"G2EGM\",\n",
    "        \"T\": T,\n",
    "        \"do_print\": do_print,\n",
    "        \"Neta\": Neta,\n",
    "        \"var_eta\": var_eta,\n",
    "    },\n",
    ")\n",
    "model_G2EGM_shocks.precompile_numba()\n",
    "model_G2EGM_shocks = timing(model_G2EGM_shocks)"
   ]
  },
  {
   "cell_type": "markdown",
   "metadata": {
    "collapsed": false,
    "pycharm": {
     "name": "#%% md\n"
    }
   },
   "source": [
    "# Table\n"
   ]
  },
  {
   "cell_type": "code",
   "execution_count": null,
   "metadata": {
    "collapsed": false,
    "pycharm": {
     "name": "#%%\n"
    }
   },
   "outputs": [],
   "source": [
    "# a. models\n",
    "models = [model_G2EGM, model_NEGM, model_G2EGM_shocks, model_NEGM_shocks]\n",
    "postfix = \"_G2EGM_vs_NEGM\"\n",
    "\n",
    "# b. euler erros\n",
    "lines = []\n",
    "txt = \"All (average)\"\n",
    "for i, model in enumerate(models):\n",
    "    txt += f\" & {np.nanmean(model.sim.euler):.3f}\"\n",
    "txt += \"\\\\\\\\ \\n\"\n",
    "lines.append(txt)\n",
    "\n",
    "txt = \"\\\\,\\\\,5th percentile\"\n",
    "for i, model in enumerate(models):\n",
    "    txt += f\" & {np.nanpercentile(model.sim.euler, 5):.3f}\"\n",
    "txt += \"\\\\\\\\ \\n\"\n",
    "lines.append(txt)\n",
    "\n",
    "txt = \"\\\\,\\\\,95th percentile\"\n",
    "for i, model in enumerate(models):\n",
    "    txt += f\" & {np.nanpercentile(model.sim.euler, 95):.3f}\"\n",
    "txt += \"\\\\\\\\ \\n\"\n",
    "lines.append(txt)\n",
    "\n",
    "with open(f\"tabs_euler_errors{postfix}.tex\", \"w\") as txtfile:\n",
    "    txtfile.writelines(lines)\n",
    "\n",
    "# c. timings\n",
    "lines = []\n",
    "txt = \"Total\"\n",
    "for model in models:\n",
    "    txt += f\" & {np.sum(model.par.time_work) / 60:.2f}\"\n",
    "txt += \"\\\\\\\\ \\n\"\n",
    "lines.append(txt)\n",
    "\n",
    "txt = \"Post-decision functions\"\n",
    "for model in models:\n",
    "    txt += f\" & {np.sum(model.par.time_w) / 60:.2f}\"\n",
    "txt += \"\\\\\\\\ \\n\"\n",
    "lines.append(txt)\n",
    "\n",
    "txt = \"EGM-step\"\n",
    "for model in models:\n",
    "    txt += f\" & {np.sum(model.par.time_egm) / 60:.2f}\"\n",
    "txt += \"\\\\\\\\ \\n\"\n",
    "lines.append(txt)\n",
    "\n",
    "txt = \"VFI-step\"\n",
    "for model in models:\n",
    "    tot_time = np.sum(model.par.time_vfi)\n",
    "    if tot_time == 0:\n",
    "        txt += \" & \"\n",
    "    else:\n",
    "        txt += f\" & {tot_time / 60:.2f}\"\n",
    "txt += \"\\\\\\\\ \\n\"\n",
    "lines.append(txt)\n",
    "\n",
    "with open(f\"tabs_timings{postfix}.tex\", \"w\") as txtfile:\n",
    "    txtfile.writelines(lines)"
   ]
  }
 ],
 "metadata": {
  "jupytext": {
   "formats": "ipynb,py:percent"
  },
  "kernelspec": {
   "display_name": "Python 3.9.13 ('consav-dev')",
   "language": "python",
   "name": "python3"
  },
  "language_info": {
   "codemirror_mode": {
    "name": "ipython",
    "version": 3
   },
   "file_extension": ".py",
   "mimetype": "text/x-python",
   "name": "python",
   "nbconvert_exporter": "python",
   "pygments_lexer": "ipython3",
   "version": "3.9.13"
  },
  "latex_envs": {
   "LaTeX_envs_menu_present": true,
   "autocomplete": true,
   "bibliofile": "biblio.bib",
   "cite_by": "apalike",
   "current_citInitial": 1,
   "eqLabelWithNumbers": true,
   "eqNumInitial": 1,
   "hotkeys": {
    "equation": "Ctrl-E",
    "itemize": "Ctrl-I"
   },
   "labels_anchors": false,
   "latex_user_defs": false,
   "report_style_numbering": false,
   "user_envs_cfg": false
  },
  "toc": {
   "base_numbering": 1,
   "nav_menu": {},
   "number_sections": true,
   "sideBar": false,
   "skip_h1_title": false,
   "title_cell": "Table of Contents",
   "title_sidebar": "Contents",
   "toc_cell": true,
   "toc_position": {},
   "toc_section_display": true,
   "toc_window_display": false
  },
  "toc-autonumbering": true,
  "varInspector": {
   "cols": {
    "lenName": 16,
    "lenType": 16,
    "lenVar": 40
   },
   "kernels_config": {
    "python": {
     "delete_cmd_postfix": "",
     "delete_cmd_prefix": "del ",
     "library": "var_list.py",
     "varRefreshCmd": "print(var_dic_list())"
    },
    "r": {
     "delete_cmd_postfix": ") ",
     "delete_cmd_prefix": "rm(",
     "library": "var_list.r",
     "varRefreshCmd": "cat(var_dic_list()) "
    }
   },
   "oldHeight": 267,
   "position": {
    "height": "40px",
    "left": "1542.33px",
    "right": "20px",
    "top": "133px",
    "width": "328px"
   },
   "types_to_exclude": [
    "module",
    "function",
    "builtin_function_or_method",
    "instance",
    "_Feature"
   ],
   "varInspector_section_display": "none",
   "window_display": true
  },
  "vscode": {
   "interpreter": {
    "hash": "53145ce76079a3dd99e1325f45df83c843263d10183a1aaa82152b9da046ab16"
   }
  }
 },
 "nbformat": 4,
 "nbformat_minor": 4
}
